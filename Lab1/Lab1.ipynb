{
 "cells": [
  {
   "cell_type": "markdown",
   "metadata": {},
   "source": [
    "# Лабораторна робота №1\n",
    "\n",
    "**Виконав:** студент групи МІТ-31\n",
    "Черевач Юрій Анатолійович\n",
    "\n",
    "## Завдання\n",
    "### ***1. NumPy*** \n",
    "створити набір даних (розмір за власним рішенням), провести CRUD операції над даними (скаляр, вектор, матриця). Використати arange, random."
   ]
  },
  {
   "cell_type": "code",
   "execution_count": 129,
   "metadata": {},
   "outputs": [
    {
     "name": "stdout",
     "output_type": "stream",
     "text": [
      "\n",
      "CREATE\n",
      "__________________________________________________\n",
      "\n",
      "Arange data: [ 0  1  2  3  4  5  6  7  8  9 10 11 12 13 14 15]\n",
      "Random data: [42 93 48 32 46 76  5 56  1 76 47 27 95 79  1 82]\n",
      "Vector data: [1 2 3 4 5 6]\n",
      "\n",
      "Matrix data: \n",
      "[[1 2]\n",
      " [3 4]\n",
      " [5 6]]\n"
     ]
    }
   ],
   "source": [
    "import numpy as np\n",
    "\n",
    "#CREATE\n",
    "print(f\"\\nCREATE\")\n",
    "print('_____'*10 + '\\n')\n",
    "\n",
    "#create data using arange\n",
    "data_arange = np.arange(16)\n",
    "print(f\"Arange data: {data_arange}\")\n",
    "\n",
    "#create data using random\n",
    "data_random = np.random.randint(0, 100, 16)\n",
    "print(f\"Random data: {data_random}\")\n",
    "\n",
    "#create vector\n",
    "data_vector = np.array([1,2,3,4,5,6])\n",
    "print(f\"Vector data: {data_vector}\")\n",
    "#create matrix \n",
    "data_matrix = np.array([[1,2], [3,4], [5,6]])\n",
    "print(f\"\\nMatrix data: \\n{data_matrix}\")"
   ]
  },
  {
   "cell_type": "code",
   "execution_count": 130,
   "metadata": {},
   "outputs": [
    {
     "name": "stdout",
     "output_type": "stream",
     "text": [
      "\n",
      "READ\n",
      "__________________________________________________\n",
      "\n",
      "\n",
      "Scalar element of vector: 1\n",
      "Subset of vector: [2 3]\n",
      "Subset of matrix, second column: [2 4 6]\n"
     ]
    }
   ],
   "source": [
    "#READ\n",
    "print(f\"\\nREAD\")\n",
    "print('_____'*10 + '\\n')\n",
    "\n",
    "#scalar element of vector\n",
    "scalar = data_vector[0]\n",
    "print(f\"\\nScalar element of vector: {scalar}\")\n",
    "\n",
    "#read subset of vector\n",
    "sub_vector = data_vector[1:3]\n",
    "print(f\"Subset of vector: {sub_vector}\")\n",
    "\n",
    "\n",
    "#read subset of matrix\n",
    "sub_matrix = data_matrix[0:, 1]\n",
    "print(f\"Subset of matrix, second column: {sub_matrix}\")"
   ]
  },
  {
   "cell_type": "code",
   "execution_count": 131,
   "metadata": {},
   "outputs": [
    {
     "name": "stdout",
     "output_type": "stream",
     "text": [
      "\n",
      "UPDATE\n",
      "__________________________________________________\n",
      "\n",
      "Update vector data: [1 2 3 0 5 6]\n",
      "Update matrix data: \n",
      "[[9 2]\n",
      " [3 4]\n",
      " [5 6]]\n"
     ]
    }
   ],
   "source": [
    "#UPDATE\n",
    "print(f\"\\nUPDATE\")\n",
    "print('_____'*10 + '\\n')\n",
    "\n",
    "#update vector\n",
    "data_vector[3] = 0\n",
    "print(f\"Update vector data: {data_vector}\")\n",
    "\n",
    "#update matrix\n",
    "data_matrix[0, 0] = 9\n",
    "print(f\"Update matrix data: \\n{data_matrix}\")"
   ]
  },
  {
   "cell_type": "code",
   "execution_count": 132,
   "metadata": {},
   "outputs": [
    {
     "name": "stdout",
     "output_type": "stream",
     "text": [
      "\n",
      "DELETE\n",
      "__________________________________________________\n",
      "\n",
      "Delete first and third element: [2 0 5 6]\n",
      "Delete second row: \n",
      "[[9 2]\n",
      " [5 6]]\n"
     ]
    }
   ],
   "source": [
    "#DELETE\n",
    "print(f\"\\nDELETE\")\n",
    "print('_____'*10 + '\\n')\n",
    "\n",
    "#delete from vector\n",
    "data_vector = np.delete(data_vector, [0,2])\n",
    "print(f\"Delete first and third element: {data_vector}\")\n",
    "\n",
    "#delete from matrix\n",
    "data_matrix = np.delete(data_matrix, 1, axis=0)\n",
    "print(f\"Delete second row: \\n{data_matrix}\")"
   ]
  },
  {
   "cell_type": "markdown",
   "metadata": {},
   "source": [
    "### ***2. Pandas***\n",
    "\n",
    "створити dataframe різними способами, провести маніпуляції з даними (head, describe, iloc, loc ...)"
   ]
  },
  {
   "cell_type": "code",
   "execution_count": 133,
   "metadata": {},
   "outputs": [
    {
     "name": "stdout",
     "output_type": "stream",
     "text": [
      "Dictionary DF: \n",
      "   Poroshenko  Age        Education\n",
      "0      Maryna   61              NMU\n",
      "1       Petro   58      KNU, NU OLA\n",
      "2     Oleksii   38         KNU, LSE\n",
      "3   Yevheniia   23  Concord College\n",
      "4  Oleksandra   23  Concord College\n",
      "5    Mykhailo   22  Concord College\n"
     ]
    }
   ],
   "source": [
    "import pandas as pd\n",
    "\n",
    "#dataframe from dictionary\n",
    "df_dict = pd.DataFrame(\n",
    "    {\n",
    "        'Poroshenko':['Maryna', 'Petro', 'Oleksii', 'Yevheniia', 'Oleksandra', 'Mykhailo'],\n",
    "        'Age':[61, 58, 38, 23, 23, 22],\n",
    "        'Education':['NMU', 'KNU, NU OLA', 'KNU, LSE', 'Concord College', 'Concord College', 'Concord College']\n",
    "    }\n",
    ")\n",
    "print(f\"Dictionary DF: \\n{df_dict}\")"
   ]
  },
  {
   "cell_type": "code",
   "execution_count": 134,
   "metadata": {},
   "outputs": [
    {
     "name": "stdout",
     "output_type": "stream",
     "text": [
      "Number DF: \n",
      "    Numbers\n",
      "0        15\n",
      "1        14\n",
      "2        13\n",
      "3        12\n",
      "4        11\n",
      "5        10\n",
      "6         9\n",
      "7         8\n",
      "8         7\n",
      "9         6\n",
      "10        5\n",
      "11        4\n",
      "12        3\n",
      "13        2\n",
      "14        1\n",
      "15        0\n"
     ]
    }
   ],
   "source": [
    "#dataframe from numpy array\n",
    "df_numpy = pd.DataFrame(data_arange[::-1], columns=['Numbers'])\n",
    "print(f\"Number DF: \\n{df_numpy}\")"
   ]
  },
  {
   "cell_type": "code",
   "execution_count": 135,
   "metadata": {},
   "outputs": [
    {
     "name": "stdout",
     "output_type": "stream",
     "text": [
      "  Poroshenko  Age Education\n",
      "0     Maryna   61       NMU\n",
      "\n",
      "             Age\n",
      "count   6.000000\n",
      "mean   37.500000\n",
      "std    18.074844\n",
      "min    22.000000\n",
      "25%    23.000000\n",
      "50%    30.500000\n",
      "75%    53.000000\n",
      "max    61.000000\n",
      "\n",
      "Poroshenko          Yevheniia\n",
      "Age                        23\n",
      "Education     Concord College\n",
      "Name: 3, dtype: object\n",
      "\n",
      "Concord College\n"
     ]
    }
   ],
   "source": [
    "#data manipulation & inexation\n",
    "print(df_dict.head(1)) #output 1 line\n",
    "print(f\"\\n{df_dict.describe()}\") #describe statistic values (Age column)\n",
    "print(f\"\\n{df_dict.iloc[3]}\") #indexation iloc\n",
    "print(f\"\\n{df_dict.loc[3, 'Education']}\") #indexation iloc\n"
   ]
  },
  {
   "cell_type": "markdown",
   "metadata": {},
   "source": [
    "### ***3. Matplotlib***\n",
    "\n",
    "створити набір даних лінійної функції з урахуванням помилок вимірювань, побудувати графік функції та згенерованих даних, обчислити похибку з використанням метрик MAE, MSE. Записати отримані результати у csv файл (формат: X,Y, Y_hat, mAE, mSE)"
   ]
  },
  {
   "cell_type": "code",
   "execution_count": 136,
   "metadata": {},
   "outputs": [
    {
     "data": {
      "image/png": "[encoded data removed]",
      "text/plain": [
       "<Figure size 640x480 with 1 Axes>"
      ]
     },
     "metadata": {},
     "output_type": "display_data"
    },
    {
     "name": "stdout",
     "output_type": "stream",
     "text": [
      "MAE: 5.597206814804789\n",
      "MSE: 49.97786006996119\n"
     ]
    }
   ],
   "source": [
    "import matplotlib.pyplot as plt\n",
    "\n",
    "X = np.arange(12, 36, 0.1)\n",
    "Y = 4*X\n",
    "noise = np.random.normal(3, 7, X.shape)\n",
    "Y_noise = Y + noise\n",
    "\n",
    "plt.plot(X, Y, 'red', label='True Function')\n",
    "plt.scatter(X, Y_noise, color='black', label='Noisy Data',marker='o')\n",
    "plt.title(\"Linear function\")\n",
    "plt.xlabel('X')\n",
    "plt.ylabel('Y')\n",
    "plt.legend()\n",
    "plt.show()\n",
    "\n",
    "MAE = np.mean(np.abs(Y_noise - Y)) #Mean absolute error\n",
    "MSE = np.mean((Y_noise - Y)**2) #Mean squared error\n",
    "\n",
    "print(f\"MAE: {MAE}\")\n",
    "print(f\"MSE: {MSE}\")\n",
    "\n",
    "dataFrameToCSV = pd.DataFrame(\n",
    "    {\n",
    "        \"X\": X,\n",
    "        \"Y\": Y,\n",
    "        \"Y_hat\": Y_noise,\n",
    "        \"MAE\": [MAE] * len(X),\n",
    "        \"MSE\": [MSE] * len(X)\n",
    "    }\n",
    ")\n",
    "dataFrameToCSV.to_csv('dataframe.csv', index=False)"
   ]
  }
 ],
 "metadata": {
  "kernelspec": {
   "display_name": "ml2023",
   "language": "python",
   "name": "python3"
  },
  "language_info": {
   "codemirror_mode": {
    "name": "ipython",
    "version": 3
   },
   "file_extension": ".py",
   "mimetype": "text/x-python",
   "name": "python",
   "nbconvert_exporter": "python",
   "pygments_lexer": "ipython3",
   "version": "3.11.5"
  },
  "orig_nbformat": 4
 },
 "nbformat": 4,
 "nbformat_minor": 2
}
