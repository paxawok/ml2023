{
 "cells": [
  {
   "cell_type": "markdown",
   "metadata": {},
   "source": [
    "Завдання:\n",
    "\n",
    "Вибір Класів для Класифікації:\n",
    "- Використовуйте останню цифру свого номера у списку групи для вибору першого класу (наприклад, 1 для першого класу, 2 для другого, і так далі, з циклічним поверненням до 1 після 10).\n",
    "- Другий клас вибирається на основі суми цифр вашого номера у списку. Наприклад, якщо ваш номер - 12, сума цифр буде 1 + 2 = 3, тому другий клас буде 3-м у списку. Якщо сума перевищує 10, продовжуйте віднімати 10, доки не отримаєте число від 1 до 10.\n",
    "\n",
    "Попередня Обробка Даних:\n",
    "- Завантажте та розпакуйте набір даних.\n",
    "- Поділіть дані на тренувальний та тестовий набори.\n",
    "- Виконайте необхідну попередню обробку даних (нормалізація, ресайзинг тощо).\n",
    "\n",
    "Розробка Моделі CNN:\n",
    "- Створіть модель CNN за допомогою TensorFlow.\n",
    "- Ви можете експериментувати з різними архітектурами та гіперпараметрами.\n",
    "\n",
    "Тренування та Оцінка Моделі:\n",
    "- Тренуйте модель на тренувальному наборі даних.\n",
    "- Оцініть ефективність моделі на тестовому наборі.\n",
    "- Запишіть результати точності та інші метрики ефективності.\n",
    "\n",
    "Аналіз Результатів:\n",
    "- Проаналізуйте отримані результати.\n",
    "- Оцініть, наскільки ефективно модель розрізняє між обраними класами.\n",
    "- Обговоріть можливі шляхи покращення моделі.\n",
    "\n",
    "Додаткові Вимоги:\n",
    "- Використовуйте TensorFlow для реалізації проекту.\n",
    "- Поділіть процес роботи на чіткі етапи.\n",
    "- Забезпечте чистоту та коментування коду."
   ]
  },
  {
   "cell_type": "code",
   "execution_count": 2,
   "metadata": {},
   "outputs": [
    {
     "name": "stdout",
     "output_type": "stream",
     "text": [
      "WARNING:tensorflow:From e:\\Apps\\anaconda\\envs\\ml2023\\Lib\\site-packages\\keras\\src\\losses.py:2976: The name tf.losses.sparse_softmax_cross_entropy is deprecated. Please use tf.compat.v1.losses.sparse_softmax_cross_entropy instead.\n",
      "\n"
     ]
    }
   ],
   "source": [
    "from tensorflow.keras.preprocessing.image import ImageDataGenerator\n",
    "from sklearn.model_selection import train_test_split\n",
    "from tensorflow.keras import layers, models\n",
    "import tensorflow as tf\n",
    "import matplotlib.pyplot as plot\n",
    "import numpy as np\n",
    "import pandas as pd"
   ]
  },
  {
   "cell_type": "code",
   "execution_count": 5,
   "metadata": {},
   "outputs": [
    {
     "name": "stdout",
     "output_type": "stream",
     "text": [
      "Found 500 images belonging to 2 classes.\n"
     ]
    },
    {
     "name": "stdout",
     "output_type": "stream",
     "text": [
      "Found 1500 images belonging to 2 classes.\n"
     ]
    }
   ],
   "source": [
    "train_data_dir = \"./10_food_classes_all_data/10_food_classes_all_data/train/\"\n",
    "test_data_dir = \"./10_food_classes_all_data/10_food_classes_all_data/test/\"\n",
    "\n",
    "datagen = ImageDataGenerator(\n",
    "    rescale=1./255,  # масштабування значень пікселів від 0-255 до 0-1\n",
    ")\n",
    "\n",
    "# Зчитування та попередня обробка тестових даних\n",
    "test_generator = datagen.flow_from_directory(\n",
    "    directory=test_data_dir,\n",
    "    target_size=(224, 224),  # розмір зображення\n",
    "    classes=['chicken_wings', 'sushi'],\n",
    "    class_mode='categorical'   \n",
    ")\n",
    "\n",
    "# Зчитування та попередня обробка тренувальних даних\n",
    "train_generator = datagen.flow_from_directory(\n",
    "    directory=train_data_dir,\n",
    "    target_size=(224, 224),  # розмір зображення\n",
    "    classes=['chicken_wings', 'sushi'],\n",
    "    class_mode='categorical'  \n",
    ")\n",
    "\n",
    "# Поділ на тренувальний та тестовий набори\n",
    "X_train, X_test, y_train, y_test = train_test_split(\n",
    "    train_generator.filenames,\n",
    "    train_generator.classes,\n",
    "    test_size=0.2\n",
    ")"
   ]
  },
  {
   "cell_type": "markdown",
   "metadata": {},
   "source": [
    "- Conv2D шар: Цей шар використовується для виявлення рис або особливостей у вхідних зображеннях за допомогою свертки. У цьому випадку, він використовує 32 фільтри розміром (3, 3).\n",
    "- activation='relu': Функція активації ReLU (Rectified Linear Unit) використовується для нелінійності. Вона замінює всі від'ємні значення на нуль, а всі позитивні значення залишає без змін.\n",
    "- input_shape=input_shape: Вказує форму вхідних даних у вигляді (висота, ширина, кількість каналів). Наприклад, якщо вхідні дані - це зображення розміром 28x28 пікселів і має один канал (чорно-біле зображення), то input_shape=(28, 28, 1).\n",
    "\n",
    "\n",
    "- MaxPooling2D шар: Використовується для пониження просторового розміру виходу з попереднього шару. У цьому випадку, використовуються пулінгові вікна розміром (2, 2), і вибирається максимальне значення з кожного вікна.\n",
    "\n",
    "\n",
    "- Flatten шар: Використовується для розгортання вихідних даних з попередніх шарів у вектор. Це необхідно перед передачею даних у повністю з'єднаний шар (fully connected layer), який часто використовується для класифікації.\n",
    "\n",
    "Отже, загальна концепція цього фрагменту коду полягає в створенні моделі CNN для обробки зображень."
   ]
  },
  {
   "cell_type": "code",
   "execution_count": 19,
   "metadata": {},
   "outputs": [
    {
     "name": "stdout",
     "output_type": "stream",
     "text": [
      "Model: \"sequential_4\"\n",
      "_________________________________________________________________\n",
      " Layer (type)                Output Shape              Param #   \n",
      "=================================================================\n",
      " conv2d_2 (Conv2D)           (None, 222, 222, 32)      896       \n",
      "                                                                 \n",
      " max_pooling2d_2 (MaxPoolin  (None, 111, 111, 32)      0         \n",
      " g2D)                                                            \n",
      "                                                                 \n",
      " flatten_2 (Flatten)         (None, 394272)            0         \n",
      "                                                                 \n",
      " dense_6 (Dense)             (None, 128)               50466944  \n",
      "                                                                 \n",
      " dense_7 (Dense)             (None, 2)                 258       \n",
      "                                                                 \n",
      "=================================================================\n",
      "Total params: 50468098 (192.52 MB)\n",
      "Trainable params: 50468098 (192.52 MB)\n",
      "Non-trainable params: 0 (0.00 Byte)\n",
      "_________________________________________________________________\n",
      "Epoch 1/9\n",
      "47/47 [==============================] - 46s 916ms/step - loss: 7.8733 - accuracy: 0.6240 - val_loss: 0.5559 - val_accuracy: 0.7100\n",
      "Epoch 2/9\n",
      "47/47 [==============================] - 25s 523ms/step - loss: 0.4467 - accuracy: 0.7953 - val_loss: 0.4806 - val_accuracy: 0.7860\n",
      "Epoch 3/9\n",
      "47/47 [==============================] - 25s 534ms/step - loss: 0.2196 - accuracy: 0.9193 - val_loss: 0.4480 - val_accuracy: 0.8000\n",
      "Epoch 4/9\n",
      "47/47 [==============================] - 25s 526ms/step - loss: 0.0844 - accuracy: 0.9827 - val_loss: 0.5019 - val_accuracy: 0.7920\n",
      "Epoch 5/9\n",
      "47/47 [==============================] - 25s 530ms/step - loss: 0.0296 - accuracy: 0.9940 - val_loss: 0.4928 - val_accuracy: 0.8100\n",
      "Epoch 6/9\n",
      "47/47 [==============================] - 25s 533ms/step - loss: 0.0190 - accuracy: 0.9993 - val_loss: 0.6721 - val_accuracy: 0.7700\n",
      "Epoch 7/9\n",
      "47/47 [==============================] - 25s 531ms/step - loss: 0.0217 - accuracy: 0.9967 - val_loss: 0.5906 - val_accuracy: 0.7980\n",
      "Epoch 8/9\n",
      "47/47 [==============================] - 24s 520ms/step - loss: 0.0055 - accuracy: 1.0000 - val_loss: 0.6462 - val_accuracy: 0.7900\n",
      "Epoch 9/9\n",
      "47/47 [==============================] - 25s 529ms/step - loss: 0.0017 - accuracy: 1.0000 - val_loss: 0.6964 - val_accuracy: 0.7920\n"
     ]
    }
   ],
   "source": [
    "input_shape = (224, 224, 3)  # Розмір вхідних зображень\n",
    "num_classes = 2  # Кількість класів\n",
    "# Створення моделі\n",
    "model = models.Sequential([\n",
    "    layers.Conv2D(32, (3, 3), activation='relu', input_shape=input_shape),\n",
    "    layers.MaxPooling2D((2, 2)),\n",
    "    layers.Flatten(),   # Перетворення тривимірних фільтрів у одномірний вектор перед подачею на повністю з'єднаний шар\n",
    "    layers.Dense(128, activation='relu'),\n",
    "    layers.Dense(num_classes, activation='softmax')\n",
    "])\n",
    "\n",
    "# Компіляція моделі\n",
    "model.compile(optimizer='adam',\n",
    "              loss='categorical_crossentropy',  \n",
    "              metrics=['accuracy'])\n",
    "\n",
    "# Виведення структури моделі\n",
    "model.summary()\n",
    "history = model.fit(train_generator, epochs=9, validation_data=test_generator)"
   ]
  },
  {
   "cell_type": "code",
   "execution_count": 21,
   "metadata": {},
   "outputs": [
    {
     "data": {
      "text/plain": [
       "<Axes: title={'center': 'Model History'}>"
      ]
     },
     "execution_count": 21,
     "metadata": {},
     "output_type": "execute_result"
    },
    {
     "data": {
      "image/png": "[encoded data removed]",
      "text/plain": [
       "<Figure size 640x480 with 1 Axes>"
      ]
     },
     "metadata": {},
     "output_type": "display_data"
    }
   ],
   "source": [
    "pd.DataFrame(history.history).plot(title=\"Model History\")"
   ]
  },
  {
   "cell_type": "markdown",
   "metadata": {},
   "source": [
    "Як бачимо на графіку, модель в цілому добре класифікує зображення."
   ]
  }
 ],
 "metadata": {
  "kernelspec": {
   "display_name": "ml2023",
   "language": "python",
   "name": "python3"
  },
  "language_info": {
   "codemirror_mode": {
    "name": "ipython",
    "version": 3
   },
   "file_extension": ".py",
   "mimetype": "text/x-python",
   "name": "python",
   "nbconvert_exporter": "python",
   "pygments_lexer": "ipython3",
   "version": "3.11.5"
  }
 },
 "nbformat": 4,
 "nbformat_minor": 2
}
